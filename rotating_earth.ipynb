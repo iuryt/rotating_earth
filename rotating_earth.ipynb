{
 "cells": [
  {
   "cell_type": "code",
   "execution_count": 13,
   "id": "01f0f8cc-45a1-4fc1-947b-727ce76f4aca",
   "metadata": {},
   "outputs": [],
   "source": [
    "# importing packages\n",
    "import numpy as np\n",
    "import matplotlib.pyplot as plt\n",
    "import xarray as xr\n",
    "import subprocess\n",
    "from tqdm import tqdm\n",
    "import matplotlib.ticker as mticker\n",
    "import cartopy.crs as ccrs\n",
    "import cartopy"
   ]
  },
  {
   "cell_type": "code",
   "execution_count": 2,
   "id": "099b009a-b4e4-4c7b-8f39-6b20ae1f576d",
   "metadata": {},
   "outputs": [],
   "source": [
    "n = 600 # number of frames\n",
    "lons = np.ravel([[np.linspace(0, 360, n//3)] * 3])[::-1] # three full rotations\n",
    "# from equator to north pole, then to south pole and back to equator \n",
    "lats = np.hstack([np.linspace(0, 90, n//6), np.ones(n//6) * 90, np.linspace(90, -90, 2 * n//6), -np.ones(n//6) * 90, np.linspace(-90, 0, n//6)])"
   ]
  },
  {
   "cell_type": "code",
   "execution_count": 49,
   "id": "46346a0d-c3f0-4074-95d9-2681336e541c",
   "metadata": {},
   "outputs": [
    {
     "name": "stderr",
     "output_type": "stream",
     "text": [
      "100%|█████████████████████████████████████████████████████████████████████████████████| 600/600 [02:48<00:00,  3.55it/s]\n"
     ]
    }
   ],
   "source": [
    "# for each frame\n",
    "for i in tqdm(np.arange(n)):\n",
    "    # get the central longitude and latitude\n",
    "    lonc, latc = lons[i], lats[i]\n",
    "\n",
    "    # define projection\n",
    "    proj = ccrs.Orthographic(central_latitude = latc, central_longitude = lonc)\n",
    "\n",
    "    # create figure with the chosen projection\n",
    "    fig = plt.figure(figsize = (3, 3))\n",
    "    ax = plt.axes(projection = proj)\n",
    "\n",
    "    # add ocean, land and coastlines\n",
    "    ax.add_feature(cartopy.feature.OCEAN)\n",
    "    ax.add_feature(cartopy.feature.LAND, zorder = 10)\n",
    "    ax.coastlines(\"110m\", color = \"0.2\", zorder = 11)\n",
    "\n",
    "    # add grid lines\n",
    "    gl = ax.gridlines(color = \"0.4\", zorder = 12)\n",
    "    gl.xlocator = mticker.FixedLocator(np.arange(-180, 180, 20))\n",
    "    gl.ylocator = mticker.FixedLocator(np.arange(-90, 90, 20))\n",
    "\n",
    "    # add title if at north or south poles\n",
    "    title = \"\"\n",
    "    if latc / 90 == 1:\n",
    "        title = \"North Pole (counter clockwise)\"\n",
    "    elif latc / 90 == -1:\n",
    "        title = \"South Pole (clockwise)\"\n",
    "    ax.set_title(title)\n",
    "\n",
    "    # save the figure with a good quality\n",
    "    fig.savefig(f\"img/{i:05d}.png\", dpi = 200)\n",
    "\n",
    "    # close figures\n",
    "    plt.close(\"all\")"
   ]
  },
  {
   "cell_type": "code",
   "execution_count": 52,
   "id": "517e9aac-e24a-4e5f-822c-99da10636e85",
   "metadata": {},
   "outputs": [
    {
     "name": "stderr",
     "output_type": "stream",
     "text": [
      "ffmpeg version 4.4.2-0ubuntu0.22.04.1 Copyright (c) 2000-2021 the FFmpeg developers\n",
      "  built with gcc 11 (Ubuntu 11.2.0-19ubuntu1)\n",
      "  configuration: --prefix=/usr --extra-version=0ubuntu0.22.04.1 --toolchain=hardened --libdir=/usr/lib/x86_64-linux-gnu --incdir=/usr/include/x86_64-linux-gnu --arch=amd64 --enable-gpl --disable-stripping --enable-gnutls --enable-ladspa --enable-libaom --enable-libass --enable-libbluray --enable-libbs2b --enable-libcaca --enable-libcdio --enable-libcodec2 --enable-libdav1d --enable-libflite --enable-libfontconfig --enable-libfreetype --enable-libfribidi --enable-libgme --enable-libgsm --enable-libjack --enable-libmp3lame --enable-libmysofa --enable-libopenjpeg --enable-libopenmpt --enable-libopus --enable-libpulse --enable-librabbitmq --enable-librubberband --enable-libshine --enable-libsnappy --enable-libsoxr --enable-libspeex --enable-libsrt --enable-libssh --enable-libtheora --enable-libtwolame --enable-libvidstab --enable-libvorbis --enable-libvpx --enable-libwebp --enable-libx265 --enable-libxml2 --enable-libxvid --enable-libzimg --enable-libzmq --enable-libzvbi --enable-lv2 --enable-omx --enable-openal --enable-opencl --enable-opengl --enable-sdl2 --enable-pocketsphinx --enable-librsvg --enable-libmfx --enable-libdc1394 --enable-libdrm --enable-libiec61883 --enable-chromaprint --enable-frei0r --enable-libx264 --enable-shared\n",
      "  libavutil      56. 70.100 / 56. 70.100\n",
      "  libavcodec     58.134.100 / 58.134.100\n",
      "  libavformat    58. 76.100 / 58. 76.100\n",
      "  libavdevice    58. 13.100 / 58. 13.100\n",
      "  libavfilter     7.110.100 /  7.110.100\n",
      "  libswscale      5.  9.100 /  5.  9.100\n",
      "  libswresample   3.  9.100 /  3.  9.100\n",
      "  libpostproc    55.  9.100 / 55.  9.100\n",
      "Input #0, image2, from 'img/*.png':\n",
      "  Duration: 00:00:25.00, start: 0.000000, bitrate: N/A\n",
      "  Stream #0:0: Video: png, rgba(pc), 600x600 [SAR 7874:7874 DAR 1:1], 24 fps, 24 tbr, 24 tbn, 24 tbc\n",
      "Stream mapping:\n",
      "  Stream #0:0 (png) -> split\n",
      "  paletteuse -> Stream #0:0 (gif)\n",
      "Press [q] to stop, [?] for help\n",
      "[Parsed_palettegen_1 @ 0x563d3489ddc0] 255(+1) colors generated out of 21755 colors; ratio=0.011721\n",
      "[Parsed_palettegen_1 @ 0x563d3489ddc0] Dupped color: FF343434\n",
      "[Parsed_palettegen_1 @ 0x563d3489ddc0] Dupped color: FF383A3C\n",
      "[Parsed_palettegen_1 @ 0x563d3489ddc0] Dupped color: FF6E747C\n",
      "Output #0, gif, to 'img/output.gif':\n",
      "  Metadata:\n",
      "    encoder         : Lavf58.76.100\n",
      "  Stream #0:0: Video: gif, pal8(pc, gbr/unknown/unknown, progressive), 600x600 [SAR 1:1 DAR 1:1], q=2-31, 200 kb/s, 24 fps, 100 tbn\n",
      "    Metadata:\n",
      "      encoder         : Lavc58.134.100 gif\n",
      "frame=  600 fps= 51 q=-0.0 Lsize=   28964kB time=00:00:24.97 bitrate=9502.3kbits/s speed=2.13x      \n",
      "video:28964kB audio:0kB subtitle:0kB other streams:0kB global headers:0kB muxing overhead: 0.000067%\n"
     ]
    },
    {
     "data": {
      "text/plain": [
       "CompletedProcess(args=['ffmpeg', '-y', '-framerate', '24', '-pattern_type', 'glob', '-i', 'img/*.png', '-filter_complex', '[0:v] split [a][b];[a] palettegen [p];[b][p] paletteuse', 'img/output.gif'], returncode=0)"
      ]
     },
     "execution_count": 52,
     "metadata": {},
     "output_type": "execute_result"
    }
   ],
   "source": [
    "fps = 24 # frames per second\n",
    "command = [\n",
    "    'ffmpeg', # software for converting from pngs to a gif\n",
    "    '-y',\n",
    "    '-framerate', str(fps),  # frame rate\n",
    "    '-pattern_type', 'glob',  # use glob pattern\n",
    "    '-i', 'img/*.png',  # input format with glob pattern for png files\n",
    "    '-filter_complex', '[0:v] split [a][b];[a] palettegen [p];[b][p] paletteuse',  # improve gif quality\n",
    "    'img/output.gif'  # output as gif\n",
    "]\n",
    "subprocess.run(command)"
   ]
  }
 ],
 "metadata": {
  "kernelspec": {
   "display_name": "coringa",
   "language": "python",
   "name": "coringa"
  },
  "language_info": {
   "codemirror_mode": {
    "name": "ipython",
    "version": 3
   },
   "file_extension": ".py",
   "mimetype": "text/x-python",
   "name": "python",
   "nbconvert_exporter": "python",
   "pygments_lexer": "ipython3",
   "version": "3.9.15"
  }
 },
 "nbformat": 4,
 "nbformat_minor": 5
}
